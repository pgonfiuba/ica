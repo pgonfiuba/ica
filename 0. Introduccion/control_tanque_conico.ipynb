{
 "cells": [
  {
   "cell_type": "markdown",
   "id": "fecf6df9",
   "metadata": {},
   "source": [
    "# Control de un tanque cónico regulando el caudal de entrada\n",
    "\n",
    "![Esquema del tanque cónico](tanque_conico.png)\n",
    "\n",
    "datos:\n",
    "- a: sección de la tubería de salida\n",
    "- g: aceleración de la gravedad"
   ]
  },
  {
   "cell_type": "code",
   "execution_count": 82,
   "id": "320c3925",
   "metadata": {},
   "outputs": [],
   "source": [
    "import sympy as sp\n",
    "import numpy as np\n",
    "import control as ctrl\n",
    "from matplotlib import pyplot as plt\n",
    "from scipy.integrate import solve_ivp"
   ]
  },
  {
   "cell_type": "markdown",
   "id": "285d1db6",
   "metadata": {},
   "source": [
    "Primero obtenemos el modelo no lineal expresado como una ecuación diferencial de primer orden del tipo:\n",
    "\n",
    "$\\frac{dh}{dt} = f(h,qe,t)$"
   ]
  },
  {
   "cell_type": "code",
   "execution_count": 25,
   "id": "4aba3251",
   "metadata": {},
   "outputs": [
    {
     "name": "stdout",
     "output_type": "stream",
     "text": [
      "Formula del volumen del cono\n"
     ]
    },
    {
     "data": {
      "text/latex": [
       "$\\displaystyle 0.333333333333333 h^{3} \\pi$"
      ],
      "text/plain": [
       "0.333333333333333*h**3*pi"
      ]
     },
     "metadata": {},
     "output_type": "display_data"
    },
    {
     "name": "stdout",
     "output_type": "stream",
     "text": [
      "Balance de masas:\n"
     ]
    },
    {
     "data": {
      "text/latex": [
       "$\\displaystyle 1.0 dhdt h^{2} \\pi = - \\sqrt{2} a \\sqrt{g h} + qe$"
      ],
      "text/plain": [
       "Eq(1.0*dhdt*h**2*pi, -sqrt(2)*a*sqrt(g*h) + qe)"
      ]
     },
     "metadata": {},
     "output_type": "display_data"
    },
    {
     "name": "stdout",
     "output_type": "stream",
     "text": [
      "Modelo no lineal:\n"
     ]
    },
    {
     "data": {
      "text/latex": [
       "$\\displaystyle \\frac{- 1.4142135623731 a \\sqrt{g h} + qe}{h^{2} \\pi}$"
      ],
      "text/plain": [
       "(-1.4142135623731*a*sqrt(g*h) + qe)/(h**2*pi)"
      ]
     },
     "metadata": {},
     "output_type": "display_data"
    }
   ],
   "source": [
    "h, dhdt, qe, pi, a, g = sp.symbols('h,dhdt,qe,pi,a,g',real=True)\n",
    "\n",
    "V = 1/3 * pi * h**3\n",
    "print(\"Formula del volumen del cono\")\n",
    "display(V)\n",
    "\n",
    "# Balance de masas\n",
    "dVdt_req = qe - a*sp.sqrt(2*g*h)\n",
    "dVdt_leq = sp.diff(V,h) * dhdt \n",
    "balance_masas = sp.Eq(dVdt_leq, dVdt_req)\n",
    "print(\"Balance de masas:\")\n",
    "display(balance_masas)\n",
    "\n",
    "f = sp.solve(balance_masas, dhdt)[0]\n",
    "print(\"Modelo no lineal:\")\n",
    "display(f)"
   ]
  },
  {
   "cell_type": "markdown",
   "id": "40dce947",
   "metadata": {},
   "source": [
    "Luego obtenemos el modelo linealizado observando que $f$ depende de la altura y el caudal de entrada\n",
    "\n",
    "$\\frac{d(h_0+\\Delta h)}{dt} = f(h_0,qe_0) + \\frac{df}{dh}|_{h_0,qe_0} (h-h_0) + \\frac{df}{dqe}|_{h_0,qe_0} (q-qe_0) $\n",
    "\n",
    "Como en el punto de equilibrio las derivadas se anulan\n",
    "$f(h_0,qe_0)=0$\n",
    "\n",
    "se puede despejar el punto de equilibrio y además se simplifica la ec. de estado:\n",
    "\n",
    "$\\frac{d(\\Delta h)}{dt} = \\frac{df}{dh}|_{h_0,qe_0} \\Delta h + \\frac{df}{dqe}|_{h_0,qe_0} \\Delta qe $\n",
    "\n"
   ]
  },
  {
   "cell_type": "code",
   "execution_count": 31,
   "id": "6845511a",
   "metadata": {},
   "outputs": [
    {
     "name": "stdout",
     "output_type": "stream",
     "text": [
      "Caudal de entrada para el punto de equilibrio dado por h0\n"
     ]
    },
    {
     "data": {
      "text/latex": [
       "$\\displaystyle 1.4142135623731 a \\sqrt{g h_{0}}$"
      ],
      "text/plain": [
       "1.4142135623731*a*sqrt(g*h0)"
      ]
     },
     "metadata": {},
     "output_type": "display_data"
    },
    {
     "name": "stdout",
     "output_type": "stream",
     "text": [
      "Ecuación linealizada: -0.707106781186557*a*dh*sqrt(g*h0)/(h0**3*pi) + dqe/(h0**2*pi)\n"
     ]
    },
    {
     "data": {
      "text/latex": [
       "$\\displaystyle - \\frac{0.707106781186557 a dh \\sqrt{g h_{0}}}{h_{0}^{3} \\pi} + \\frac{dqe}{h_{0}^{2} \\pi}$"
      ],
      "text/plain": [
       "-0.707106781186557*a*dh*sqrt(g*h0)/(h0**3*pi) + dqe/(h0**2*pi)"
      ]
     },
     "metadata": {},
     "output_type": "display_data"
    }
   ],
   "source": [
    "h0, qe0 = sp.symbols('h0,qe0',real=True)\n",
    "dh, dqe = sp.symbols('dh,dqe',real=True)\n",
    "\n",
    "# Evaluar f en el punto (h0, qe0)\n",
    "f0 = f.subs({h: h0, qe: qe0})\n",
    "qe0 = sp.solve(sp.Eq(f0, 0), qe0)[0]\n",
    "print(\"Caudal de entrada para el punto de equilibrio dado por h0\")\n",
    "display(qe0)\n",
    "\n",
    "# Derivadas parciales en el punto\n",
    "df_dh = sp.diff(f, h).subs({h: h0, qe: qe0})\n",
    "df_dqe = sp.diff(f, qe).subs({h: h0, qe: qe0})\n",
    "\n",
    "# Ecuación linealizada\n",
    "dhdt_lin = df_dh*(dh) + df_dqe*(dqe)\n",
    "\n",
    "\n",
    "print(\"Ecuación linealizada:\", dhdt_lin)\n",
    "display(dhdt_lin)"
   ]
  },
  {
   "cell_type": "markdown",
   "id": "c0d7424f",
   "metadata": {},
   "source": [
    "El modelo linealizado es de la forma:\n",
    "\n",
    "$G(s) = \\frac{\\beta}{s+\\alpha}$"
   ]
  },
  {
   "cell_type": "code",
   "execution_count": 89,
   "id": "f7188417",
   "metadata": {},
   "outputs": [
    {
     "data": {
      "text/latex": [
       "$\\displaystyle \\frac{0.707106781186557 a \\sqrt{g h_{0}}}{h_{0}^{3} \\pi}$"
      ],
      "text/plain": [
       "0.707106781186557*a*sqrt(g*h0)/(h0**3*pi)"
      ]
     },
     "metadata": {},
     "output_type": "display_data"
    },
    {
     "data": {
      "text/latex": [
       "$\\displaystyle \\frac{1}{h_{0}^{2} \\pi}$"
      ],
      "text/plain": [
       "1/(h0**2*pi)"
      ]
     },
     "metadata": {},
     "output_type": "display_data"
    }
   ],
   "source": [
    "# Obtengo los parámetros del sistema lineal\n",
    "\n",
    "alpha = -sp.diff(dhdt_lin,dh) \n",
    "display(alpha)\n",
    "\n",
    "beta = sp.diff(dhdt_lin,dqe) \n",
    "display(beta)"
   ]
  },
  {
   "cell_type": "markdown",
   "id": "687a3322",
   "metadata": {},
   "source": [
    "## Simulación del sistema no lineal vs linealizado\n",
    "\n",
    "- Punto de trabajo h_0=1m\n",
    "- a = 0.1m\n"
   ]
  },
  {
   "cell_type": "code",
   "execution_count": 95,
   "id": "a1a2ca65",
   "metadata": {},
   "outputs": [
    {
     "name": "stdout",
     "output_type": "stream",
     "text": [
      "Estado estacionario. h0=1  qe0=0.442944691807004\n",
      "Función no lineal:\n"
     ]
    },
    {
     "data": {
      "text/latex": [
       "$\\displaystyle \\frac{0.318309886183791 \\left(- 0.442944691807002 h^{0.5} + qe\\right)}{h^{2}}$"
      ],
      "text/plain": [
       "0.318309886183791*(-0.442944691807002*h**0.5 + qe)/h**2"
      ]
     },
     "metadata": {},
     "output_type": "display_data"
    },
    {
     "name": "stdout",
     "output_type": "stream",
     "text": [
      "Pruebo que esté bien calculado verificando el valor de la función en estado estacionario\n",
      " f(qe0,h0)=4.94752950449881E-16\n",
      "Modelo linealizado\n"
     ]
    },
    {
     "data": {
      "text/latex": [
       "$$\\frac{0.3183}{s + 0.0705}$$"
      ],
      "text/plain": [
       "TransferFunction(array([0.31830989]), array([1.        , 0.07049684]))"
      ]
     },
     "metadata": {},
     "output_type": "display_data"
    }
   ],
   "source": [
    "a_val = 0.1\n",
    "g_val = 9.81\n",
    "h0_val = 1\n",
    "qe0_val = qe0.subs({h0:h0_val,a:a_val,g:g_val})\n",
    "print(f\"Estado estacionario. h0={h0_val}  qe0={qe0_val}\")\n",
    "\n",
    "f_subs = f.subs({h0:1,a:a_val,g:g_val,pi:np.pi}).evalf()\n",
    "print(\"Función no lineal:\")\n",
    "display(f_subs)\n",
    "\n",
    "# Función numérica dhdt(qe, a, g, h, A)\n",
    "dhdt_lambda = sp.lambdify((qe, h), f_subs, 'numpy')\n",
    "print(f\"Pruebo que esté bien calculado verificando el valor de la función en estado estacionario\\n f(qe0,h0)={dhdt_lambda(qe0_val,h0_val)}\")\n",
    "\n",
    "# Obtengo el modelo linealizado\n",
    "alpha_subs = np.double(alpha.subs({h0:1,a:a_val,g:g_val,pi:np.pi}).evalf())\n",
    "beta_subs = np.double(beta.subs({h0:1,a:a_val,g:g_val,pi:np.pi}).evalf())\n",
    "G = ctrl.TransferFunction([beta_subs],[1,alpha_subs])\n",
    "print(\"Modelo linealizado\")\n",
    "display(G)\n"
   ]
  },
  {
   "cell_type": "code",
   "execution_count": 125,
   "id": "82ede862",
   "metadata": {},
   "outputs": [
    {
     "data": {
      "image/png": "[encoded data removed]",
      "text/plain": [
       "<Figure size 1000x400 with 1 Axes>"
      ]
     },
     "metadata": {},
     "output_type": "display_data"
    }
   ],
   "source": [
    "\n",
    "# Podemos ver qué pasa con las respuestas cuando cambiamos estos valores\n",
    "delta_step = 0.01\n",
    "hini = h0_val*1\n",
    "\n",
    "\n",
    "# En este punto tengo el modelo no lineal. Hora de simular la respuesta al escalón\n",
    "def modelo(t, h):\n",
    "    if t<0.0:\n",
    "        q=qe0_val\n",
    "    else:\n",
    "        q=qe0_val+delta_step\n",
    "    return [dhdt_lambda(q,h)]\n",
    "\n",
    "t_span = (0, 100)\n",
    "t_eval = np.linspace(t_span[0], t_span[1], 5000)\n",
    "sol = solve_ivp(modelo, t_span, [hini], t_eval=t_eval, method='RK45')\n",
    "\n",
    "# Y el no lineal\n",
    "t,y = ctrl.step_response(G,T=t_eval)\n",
    "\n",
    "plt.figure(figsize=(10,4))\n",
    "plt.plot(sol.t, sol.y[0], label='No lineal')\n",
    "plt.plot(t, y*delta_step+hini, label='Linealizado')\n",
    "#plt.axhline(h_ref, color='r', linestyle='--', label='Referencia $h_{ref}$')\n",
    "plt.xlabel('Tiempo [s]')\n",
    "plt.ylabel('Altura [m]')\n",
    "plt.title('Simulación a lazo abierto')\n",
    "plt.grid(True)\n",
    "plt.legend()\n",
    "plt.show()"
   ]
  },
  {
   "cell_type": "code",
   "execution_count": null,
   "id": "c3f4289a",
   "metadata": {},
   "outputs": [],
   "source": []
  }
 ],
 "metadata": {
  "kernelspec": {
   "display_name": "robotica",
   "language": "python",
   "name": "python3"
  },
  "language_info": {
   "codemirror_mode": {
    "name": "ipython",
    "version": 3
   },
   "file_extension": ".py",
   "mimetype": "text/x-python",
   "name": "python",
   "nbconvert_exporter": "python",
   "pygments_lexer": "ipython3",
   "version": "3.8.20"
  }
 },
 "nbformat": 4,
 "nbformat_minor": 5
}
