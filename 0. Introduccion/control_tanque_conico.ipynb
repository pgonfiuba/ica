{
 "cells": [
  {
   "cell_type": "markdown",
   "id": "fecf6df9",
   "metadata": {},
   "source": [
    "# Control de un tanque cónico regulando el caudal de entrada\n",
    "\n",
    "![Esquema del tanque cónico](tanque_conico.png)\n",
    "\n",
    "datos:\n",
    "- a: sección de la tubería de salida\n",
    "- g: aceleración de la gravedad"
   ]
  },
  {
   "cell_type": "code",
   "execution_count": 3,
   "id": "320c3925",
   "metadata": {},
   "outputs": [],
   "source": [
    "import sympy as sp\n",
    "import numpy as np"
   ]
  },
  {
   "cell_type": "markdown",
   "id": "285d1db6",
   "metadata": {},
   "source": [
    "Primero obtenemos el modelo no lineal expresado como una ecuación diferencial de primer orden del tipo:\n",
    "\n",
    "$\\frac{dh}{dt} = f(h,qe,t)$"
   ]
  },
  {
   "cell_type": "code",
   "execution_count": 25,
   "id": "4aba3251",
   "metadata": {},
   "outputs": [
    {
     "name": "stdout",
     "output_type": "stream",
     "text": [
      "Formula del volumen del cono\n"
     ]
    },
    {
     "data": {
      "text/latex": [
       "$\\displaystyle 0.333333333333333 h^{3} \\pi$"
      ],
      "text/plain": [
       "0.333333333333333*h**3*pi"
      ]
     },
     "metadata": {},
     "output_type": "display_data"
    },
    {
     "name": "stdout",
     "output_type": "stream",
     "text": [
      "Balance de masas:\n"
     ]
    },
    {
     "data": {
      "text/latex": [
       "$\\displaystyle 1.0 dhdt h^{2} \\pi = - \\sqrt{2} a \\sqrt{g h} + qe$"
      ],
      "text/plain": [
       "Eq(1.0*dhdt*h**2*pi, -sqrt(2)*a*sqrt(g*h) + qe)"
      ]
     },
     "metadata": {},
     "output_type": "display_data"
    },
    {
     "name": "stdout",
     "output_type": "stream",
     "text": [
      "Modelo no lineal:\n"
     ]
    },
    {
     "data": {
      "text/latex": [
       "$\\displaystyle \\frac{- 1.4142135623731 a \\sqrt{g h} + qe}{h^{2} \\pi}$"
      ],
      "text/plain": [
       "(-1.4142135623731*a*sqrt(g*h) + qe)/(h**2*pi)"
      ]
     },
     "metadata": {},
     "output_type": "display_data"
    }
   ],
   "source": [
    "h, dhdt, qe, pi, a, g = sp.symbols('h,dhdt,qe,pi,a,g',real=True)\n",
    "\n",
    "V = 1/3 * pi * h**3\n",
    "print(\"Formula del volumen del cono\")\n",
    "display(V)\n",
    "\n",
    "# Balance de masas\n",
    "dVdt_req = qe - a*sp.sqrt(2*g*h)\n",
    "dVdt_leq = sp.diff(V,h) * dhdt \n",
    "balance_masas = sp.Eq(dVdt_leq, dVdt_req)\n",
    "print(\"Balance de masas:\")\n",
    "display(balance_masas)\n",
    "\n",
    "f = sp.solve(balance_masas, dhdt)[0]\n",
    "print(\"Modelo no lineal:\")\n",
    "display(f)"
   ]
  },
  {
   "cell_type": "markdown",
   "id": "40dce947",
   "metadata": {},
   "source": [
    "Luego obtenemos el modelo linealizado observando que $f$ depende de la altura y el caudal de entrada\n",
    "\n",
    "$\\frac{d(h_0+\\Delta h)}{dt} = f(h_0,qe_0) + \\frac{df}{dh}|_{h_0,qe_0} (h-h_0) + \\frac{df}{dqe}|_{h_0,qe_0} (q-qe_0) $\n",
    "\n",
    "Como en el punto de equilibrio las derivadas se anulan\n",
    "$f(h_0,qe_0)=0$\n",
    "\n",
    "se puede despejar el punto de equilibrio y además se simplifica la ec. de estado:\n",
    "\n",
    "$\\frac{d(\\Delta h)}{dt} = \\frac{df}{dh}|_{h_0,qe_0} \\Delta h + \\frac{df}{dqe}|_{h_0,qe_0} \\Delta qe $\n",
    "\n"
   ]
  },
  {
   "cell_type": "code",
   "execution_count": 31,
   "id": "6845511a",
   "metadata": {},
   "outputs": [
    {
     "name": "stdout",
     "output_type": "stream",
     "text": [
      "Caudal de entrada para el punto de equilibrio dado por h0\n"
     ]
    },
    {
     "data": {
      "text/latex": [
       "$\\displaystyle 1.4142135623731 a \\sqrt{g h_{0}}$"
      ],
      "text/plain": [
       "1.4142135623731*a*sqrt(g*h0)"
      ]
     },
     "metadata": {},
     "output_type": "display_data"
    },
    {
     "name": "stdout",
     "output_type": "stream",
     "text": [
      "Ecuación linealizada: -0.707106781186557*a*dh*sqrt(g*h0)/(h0**3*pi) + dqe/(h0**2*pi)\n"
     ]
    },
    {
     "data": {
      "text/latex": [
       "$\\displaystyle - \\frac{0.707106781186557 a dh \\sqrt{g h_{0}}}{h_{0}^{3} \\pi} + \\frac{dqe}{h_{0}^{2} \\pi}$"
      ],
      "text/plain": [
       "-0.707106781186557*a*dh*sqrt(g*h0)/(h0**3*pi) + dqe/(h0**2*pi)"
      ]
     },
     "metadata": {},
     "output_type": "display_data"
    }
   ],
   "source": [
    "h0, qe0 = sp.symbols('h0,qe0',real=True)\n",
    "dh, dqe = sp.symbols('dh,dqe',real=True)\n",
    "\n",
    "# Evaluar f en el punto (h0, qe0)\n",
    "f0 = f.subs({h: h0, qe: qe0})\n",
    "qe0 = sp.solve(sp.Eq(f0, 0), qe0)[0]\n",
    "print(\"Caudal de entrada para el punto de equilibrio dado por h0\")\n",
    "display(qe0)\n",
    "\n",
    "# Derivadas parciales en el punto\n",
    "df_dh = sp.diff(f, h).subs({h: h0, qe: qe0})\n",
    "df_dqe = sp.diff(f, qe).subs({h: h0, qe: qe0})\n",
    "\n",
    "# Ecuación linealizada\n",
    "dhdt_lin = df_dh*(dh) + df_dqe*(dqe)\n",
    "\n",
    "\n",
    "print(\"Ecuación linealizada:\", dhdt_lin)\n",
    "display(dhdt_lin)"
   ]
  },
  {
   "cell_type": "code",
   "execution_count": 34,
   "id": "f7188417",
   "metadata": {},
   "outputs": [
    {
     "data": {
      "text/latex": [
       "$\\displaystyle - \\frac{0.707106781186557 a \\sqrt{g h_{0}}}{h_{0}^{3} \\pi}$"
      ],
      "text/plain": [
       "-0.707106781186557*a*sqrt(g*h0)/(h0**3*pi)"
      ]
     },
     "metadata": {},
     "output_type": "display_data"
    },
    {
     "data": {
      "text/latex": [
       "$\\displaystyle \\frac{1}{h_{0}^{2} \\pi}$"
      ],
      "text/plain": [
       "1/(h0**2*pi)"
      ]
     },
     "metadata": {},
     "output_type": "display_data"
    }
   ],
   "source": [
    "# Obtengo los parámetros del sistema lineal\n",
    "\n",
    "alpha = sp.diff(dhdt_lin,dh) \n",
    "display(alpha)\n",
    "\n",
    "beta = sp.diff(dhdt_lin,dqe) \n",
    "display(beta)"
   ]
  },
  {
   "cell_type": "code",
   "execution_count": null,
   "id": "a1a2ca65",
   "metadata": {},
   "outputs": [],
   "source": []
  }
 ],
 "metadata": {
  "kernelspec": {
   "display_name": "robotica",
   "language": "python",
   "name": "python3"
  },
  "language_info": {
   "codemirror_mode": {
    "name": "ipython",
    "version": 3
   },
   "file_extension": ".py",
   "mimetype": "text/x-python",
   "name": "python",
   "nbconvert_exporter": "python",
   "pygments_lexer": "ipython3",
   "version": "3.8.20"
  }
 },
 "nbformat": 4,
 "nbformat_minor": 5
}
