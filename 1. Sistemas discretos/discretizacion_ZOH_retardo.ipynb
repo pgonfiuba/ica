{
 "cells": [
  {
   "cell_type": "markdown",
   "id": "84ac6c44",
   "metadata": {},
   "source": [
    "# Muestreo de sistemas con retardo\n",
    "\n",
    "- Obtener el sistema discreto que se observa al muestrear con ZOH un doble integrador con retardo $t_d<T$ \n",
    "- ¿Qué ocurre cuando  $t_d = (d-1)*T + t_d'$ ?"
   ]
  },
  {
   "cell_type": "code",
   "execution_count": 38,
   "id": "98b07240",
   "metadata": {},
   "outputs": [],
   "source": [
    "import control as ctl\n",
    "import matplotlib.pyplot as plt\n",
    "import numpy as np\n",
    "import sympy as sp"
   ]
  },
  {
   "cell_type": "code",
   "execution_count": 47,
   "id": "c0fc77f5",
   "metadata": {},
   "outputs": [
    {
     "name": "stdout",
     "output_type": "stream",
     "text": [
      "Matriz de transición de estado Phi:\n"
     ]
    },
    {
     "data": {
      "image/png": "[encoded data removed]",
      "text/latex": [
       "$\\displaystyle \\left[\\begin{matrix}1 & T\\\\0 & 1\\end{matrix}\\right]$"
      ],
      "text/plain": [
       "⎡1  T⎤\n",
       "⎢    ⎥\n",
       "⎣0  1⎦"
      ]
     },
     "metadata": {},
     "output_type": "display_data"
    },
    {
     "name": "stdout",
     "output_type": "stream",
     "text": [
      "Gamma1:\n"
     ]
    },
    {
     "data": {
      "image/png": "[encoded data removed]",
      "text/latex": [
       "$\\displaystyle \\left[\\begin{matrix}T td - \\frac{td^{2}}{2}\\\\td\\end{matrix}\\right]$"
      ],
      "text/plain": [
       "⎡         2⎤\n",
       "⎢       td ⎥\n",
       "⎢T⋅td - ───⎥\n",
       "⎢        2 ⎥\n",
       "⎢          ⎥\n",
       "⎣    td    ⎦"
      ]
     },
     "metadata": {},
     "output_type": "display_data"
    },
    {
     "name": "stdout",
     "output_type": "stream",
     "text": [
      "Gamma0:\n"
     ]
    },
    {
     "data": {
      "image/png": "[encoded data removed]",
      "text/latex": [
       "$\\displaystyle \\left[\\begin{matrix}\\frac{T^{2}}{2} - T td + \\frac{td^{2}}{2}\\\\T - td\\end{matrix}\\right]$"
      ],
      "text/plain": [
       "⎡ 2            2⎤\n",
       "⎢T           td ⎥\n",
       "⎢── - T⋅td + ───⎥\n",
       "⎢2            2 ⎥\n",
       "⎢               ⎥\n",
       "⎣    T - td     ⎦"
      ]
     },
     "metadata": {},
     "output_type": "display_data"
    }
   ],
   "source": [
    "# Inicialización\n",
    "sp.init_printing()\n",
    "t, tau, T, td = sp.symbols('t tau T td', real=True)\n",
    "\n",
    "eAt = sp.Matrix([[1, t],[0, 1]])  \n",
    "Phi = eAt.subs({t: T})  # Matriz de transición de estado para el sistema continuo\n",
    "B = np.array([[0], [1]])  # Matriz de entrada para el sistema continuo\n",
    "print(\"Matriz de transición de estado Phi:\")\n",
    "display(Phi)\n",
    "\n",
    "\n",
    "Gamma1 = sp.integrate(\n",
    "    eAt.subs({t:T-tau}), \n",
    "    (tau, 0, td))*B  # Matriz de entrada para el sistema continuo\n",
    "\n",
    "print(\"Gamma1:\")\n",
    "display(Gamma1)\n",
    "\n",
    "Gamma0 = sp.integrate(\n",
    "    eAt.subs({t:T-tau}), \n",
    "    (tau, td, T))*B  # Matriz de entrada para el sistema continuo\n",
    "print(\"Gamma0:\")\n",
    "display(Gamma0)\n",
    "\n"
   ]
  },
  {
   "cell_type": "code",
   "execution_count": 48,
   "id": "cbbedc52",
   "metadata": {},
   "outputs": [
    {
     "name": "stdout",
     "output_type": "stream",
     "text": [
      "Matrix([[1.00000000000000, 0.100000000000000], [0, 1.00000000000000]])\n",
      "Sistema discreto con retardo:\n"
     ]
    },
    {
     "data": {
      "text/latex": [
       "$$\n",
       "\\left(\\begin{array}{rllrllrll|rll}\n",
       "1\\phantom{.}&\\hspace{-1em}&\\hspace{-1em}\\phantom{\\cdot}&0.&\\hspace{-1em}1&\\hspace{-1em}\\phantom{\\cdot}&0.&\\hspace{-1em}00375&\\hspace{-1em}\\phantom{\\cdot}&0.&\\hspace{-1em}00125&\\hspace{-1em}\\phantom{\\cdot}\\\\\n",
       "0\\phantom{.}&\\hspace{-1em}&\\hspace{-1em}\\phantom{\\cdot}&1\\phantom{.}&\\hspace{-1em}&\\hspace{-1em}\\phantom{\\cdot}&0.&\\hspace{-1em}05&\\hspace{-1em}\\phantom{\\cdot}&0.&\\hspace{-1em}05&\\hspace{-1em}\\phantom{\\cdot}\\\\\n",
       "0\\phantom{.}&\\hspace{-1em}&\\hspace{-1em}\\phantom{\\cdot}&0\\phantom{.}&\\hspace{-1em}&\\hspace{-1em}\\phantom{\\cdot}&0\\phantom{.}&\\hspace{-1em}&\\hspace{-1em}\\phantom{\\cdot}&1\\phantom{.}&\\hspace{-1em}&\\hspace{-1em}\\phantom{\\cdot}\\\\\n",
       "\\hline\n",
       "1\\phantom{.}&\\hspace{-1em}&\\hspace{-1em}\\phantom{\\cdot}&0\\phantom{.}&\\hspace{-1em}&\\hspace{-1em}\\phantom{\\cdot}&0\\phantom{.}&\\hspace{-1em}&\\hspace{-1em}\\phantom{\\cdot}&0\\phantom{.}&\\hspace{-1em}&\\hspace{-1em}\\phantom{\\cdot}\\\\\n",
       "\\end{array}\\right)~,~dt=0.1\n",
       "$$"
      ],
      "text/plain": [
       "<LinearIOSystem:sys[16]:['u[0]']->['y[0]']>"
      ]
     },
     "metadata": {},
     "output_type": "display_data"
    },
    {
     "name": "stdout",
     "output_type": "stream",
     "text": [
      "Sistema continuo sin retardo:\n"
     ]
    },
    {
     "data": {
      "text/latex": [
       "$$\n",
       "\\left(\\begin{array}{rllrll|rll}\n",
       "0\\phantom{.}&\\hspace{-1em}&\\hspace{-1em}\\phantom{\\cdot}&1\\phantom{.}&\\hspace{-1em}&\\hspace{-1em}\\phantom{\\cdot}&0\\phantom{.}&\\hspace{-1em}&\\hspace{-1em}\\phantom{\\cdot}\\\\\n",
       "0\\phantom{.}&\\hspace{-1em}&\\hspace{-1em}\\phantom{\\cdot}&0\\phantom{.}&\\hspace{-1em}&\\hspace{-1em}\\phantom{\\cdot}&1\\phantom{.}&\\hspace{-1em}&\\hspace{-1em}\\phantom{\\cdot}\\\\\n",
       "\\hline\n",
       "1\\phantom{.}&\\hspace{-1em}&\\hspace{-1em}\\phantom{\\cdot}&0\\phantom{.}&\\hspace{-1em}&\\hspace{-1em}\\phantom{\\cdot}&0\\phantom{.}&\\hspace{-1em}&\\hspace{-1em}\\phantom{\\cdot}\\\\\n",
       "\\end{array}\\right)\n",
       "$$"
      ],
      "text/plain": [
       "<LinearIOSystem:sys[17]:['u[0]']->['y[0]']>"
      ]
     },
     "metadata": {},
     "output_type": "display_data"
    }
   ],
   "source": [
    "# Obtengo el modelo numérico\n",
    "T_n = 0.1\n",
    "td_n = 0.05\n",
    "aa = Phi.subs({T: T_n, td: td_n}).evalf()\n",
    "print(aa)\n",
    "\n",
    "Phi_n = np.block([\n",
    "    [Phi.subs({T: T_n, td: td_n}).evalf(), Gamma1.subs({T: T_n, td: td_n}).evalf()],\n",
    "    [np.zeros((1, 2)), 0]\n",
    "    ])\n",
    "\n",
    "B_n = np.block([\n",
    "    [Gamma0.subs({T: T_n, td: td_n}).evalf()],\n",
    "    [1]\n",
    "    ])\n",
    "\n",
    "C_n = np.array([[1, 0, 0]])\n",
    "\n",
    "Gd = ctl.ss(Phi_n, B_n, C_n, 0, T_n)\n",
    "print(\"Sistema discreto con retardo:\")\n",
    "display(Gd)\n",
    "\n",
    "# Recordemos que el sistema continuo es un doble integrador\n",
    "G = ctl.ss([[0, 1], [0, 0]],[[0], [1]], [[1, 0]], [[0]])\n",
    "print(\"Sistema continuo sin retardo:\")\n",
    "display(G)\n"
   ]
  },
  {
   "cell_type": "code",
   "execution_count": 53,
   "id": "3b1655f9",
   "metadata": {},
   "outputs": [
    {
     "name": "stdout",
     "output_type": "stream",
     "text": [
      "Muestreo cada 50.0 samples\n"
     ]
    },
    {
     "data": {
      "text/plain": [
       "<matplotlib.legend.Legend at 0x75fdb2220d00>"
      ]
     },
     "execution_count": 53,
     "metadata": {},
     "output_type": "execute_result"
    },
    {
     "data": {
      "image/png": "[encoded data removed]",
      "text/plain": [
       "<Figure size 640x480 with 2 Axes>"
      ]
     },
     "metadata": {},
     "output_type": "display_data"
    }
   ],
   "source": [
    "# Respuesta al pulso de un doble integrador con retardo\n",
    "t_n = np.linspace(0, 2, 1001)\n",
    "u = np.zeros_like(t_n)\n",
    "u[100:199] = 1  # Pulso unitario entre t=1\n",
    "u[200:299] = -1  # Pulso unitario entre t=1\n",
    "\n",
    "\n",
    "N = T_n/(t_n[1]-t_n[0])\n",
    "print(f'Muestreo cada {N} samples')\n",
    "\n",
    "uk = u[0:len(u):int(N)]  # Muestreo cada 10 muestras\n",
    "\n",
    "# Respuesta al pulso\n",
    "t_c, y_c = ctl.forced_response(G, t_n, U=u)\n",
    "t_k, y_k = ctl.forced_response(Gd, U=uk)\n",
    "\n",
    "plt.figure()\n",
    "plt.subplot(2, 1, 1)\n",
    "plt.plot(t_c, y_c, label='rta de G')\n",
    "plt.step(t_k, y_k, 'o-',where='post',label='rta de Gd')\n",
    "plt.ylabel('y(t)')\n",
    "plt.grid()\n",
    "plt.legend()\n",
    "plt.subplot(2, 1, 2)\n",
    "plt.plot(t_c, u, label='Pulso de entrada')\n",
    "plt.step(t_k, uk, 'o',  where='post',label='Muestras de entrada')\n",
    "plt.xlabel('Tiempo (s)')\n",
    "plt.ylabel('u(t)')\n",
    "plt.grid()\n",
    "plt.legend()"
   ]
  },
  {
   "cell_type": "code",
   "execution_count": null,
   "id": "6147c518",
   "metadata": {},
   "outputs": [],
   "source": []
  }
 ],
 "metadata": {
  "kernelspec": {
   "display_name": "robotica",
   "language": "python",
   "name": "python3"
  },
  "language_info": {
   "codemirror_mode": {
    "name": "ipython",
    "version": 3
   },
   "file_extension": ".py",
   "mimetype": "text/x-python",
   "name": "python",
   "nbconvert_exporter": "python",
   "pygments_lexer": "ipython3",
   "version": "3.8.20"
  }
 },
 "nbformat": 4,
 "nbformat_minor": 5
}
