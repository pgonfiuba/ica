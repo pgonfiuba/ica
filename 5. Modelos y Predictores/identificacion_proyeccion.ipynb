{
 "cells": [
  {
   "cell_type": "markdown",
   "id": "5bd28ad6",
   "metadata": {},
   "source": [
    "# Algoritmo de proyección\n",
    "\n",
    "Se evalúa el proceso de estimación por el algoritmo de proyección en un caso muy simple, consistente en un modelo ARMA\n",
    "\n",
    "$$ y_{k+1} = a y_k + b u_k $$\n",
    "\n",
    "El algoritmo incluye la posibilidad de variar el factor gamma para modificar la convergencia, así como el factor de olvido."
   ]
  },
  {
   "cell_type": "code",
   "execution_count": 3,
   "id": "549cfd24",
   "metadata": {},
   "outputs": [],
   "source": [
    "import control as ctrl\n",
    "import numpy as np\n",
    "from matplotlib import pyplot as plt\n",
    "\n",
    "#%matplotlib qt"
   ]
  },
  {
   "cell_type": "code",
   "execution_count": 4,
   "id": "a17f8167",
   "metadata": {},
   "outputs": [
    {
     "name": "stderr",
     "output_type": "stream",
     "text": [
      "/tmp/ipykernel_1282065/3223362404.py:22: DeprecationWarning: Conversion of an array with ndim > 0 to a scalar is deprecated, and will error in future. Ensure you extract a single element from your array before performing this operation. (Deprecated NumPy 1.25.)\n",
      "  e[k] = y[k] - y_pred\n"
     ]
    }
   ],
   "source": [
    "# Parámetros verdaderos\n",
    "a, b = -0.8, 0.5\n",
    "theta = np.random.randn(2, 1)\n",
    "\n",
    "# Para el caso simple de estudio dejar alpha=0 y gamma=1\n",
    "gamma = 1\n",
    "alpha = 0\n",
    "\n",
    "N = 20\n",
    "#u = np.ones((N,)) \n",
    "u = np.random.randn(N)\n",
    "y = np.zeros_like(u)\n",
    "e = np.zeros_like(u)\n",
    "theta = np.zeros((2,N+1))\n",
    "for k in range(1, N):  \n",
    "    y[k] = a*y[k-1] + b*u[k-1] \n",
    "\n",
    "plt.figure()\n",
    "for k in range(1,N):\n",
    "    x = np.array([[y[k-1]], [u[k-1]]])\n",
    "    y_pred = theta[:,k].T @ x\n",
    "    e[k] = y[k] - y_pred \n",
    "    theta[:,k+1] = theta[:,k] + ((gamma*x)/(alpha+x.T@x) * e[k]).flatten()\n",
    "    \n",
    "    # Construyo una recta solución del sistema\n",
    "    v = np.array([-x[1], x[0]])\n",
    "    t = np.linspace(-10, 10, 100)\n",
    "    p = theta[:, k+1]\n",
    "    recta =  p[:,None] + v * t  # 2x100\n",
    "\n",
    "    plt.plot(recta[0, :], recta[1, :])\n",
    "plt.plot(theta[0,:], theta[1,:],'bo--')\n",
    "plt.plot(theta[0,0], theta[1,0],'go--',label='$\\\\theta_0$')\n",
    "plt.plot(a, b,'ro',label='$\\\\theta_{{real}}$')\n",
    "plt.xlim(a-1,a+1)\n",
    "plt.ylim(b-1,b+1)\n",
    "plt.xlabel('a')\n",
    "plt.ylabel('b') \n",
    "plt.legend()\n",
    "\n",
    "k = np.arange(N)\n",
    "plt.figure()\n",
    "plt.subplot(2,1,1)\n",
    "plt.step(k,y,where='post', label='$y[k]$')\n",
    "plt.step(k,y - e, where='post', label='$\\\\hat{y}[k]$')\n",
    "plt.ylabel('Amplitud')\n",
    "plt.legend()\n",
    "plt.grid()\n",
    "plt.subplot(2,1,2)\n",
    "plt.step(k,e, where='post', label='Error de estimación $e[k]$', color='orange')\n",
    "plt.xlabel('Tiempo (k)')\n",
    "plt.ylabel('Amplitud')\n",
    "plt.legend()\n",
    "plt.grid()\n",
    "\n",
    "\n",
    "plt.figure()\n",
    "plt.plot(theta[0,:], label='Estimación de a')\n",
    "plt.plot(theta[1,:], label='Estimación de b')\n",
    "plt.axhline(y=a, color='r', linestyle='--', label='Valor verdadero de a')\n",
    "plt.axhline(y=b, color='g', linestyle='--', label='Valor verdadero de b')\n",
    "plt.xlabel('Iteración')\n",
    "plt.ylabel('Valor estimado')\n",
    "plt.title('Estimación de Parámetros')\n",
    "plt.legend()\n",
    "plt.grid()\n",
    "plt.show()\n",
    "\n",
    "\n",
    "\n"
   ]
  },
  {
   "cell_type": "code",
   "execution_count": null,
   "id": "f27fe7ab",
   "metadata": {},
   "outputs": [],
   "source": []
  }
 ],
 "metadata": {
  "kernelspec": {
   "display_name": "robotics",
   "language": "python",
   "name": "python3"
  },
  "language_info": {
   "codemirror_mode": {
    "name": "ipython",
    "version": 3
   },
   "file_extension": ".py",
   "mimetype": "text/x-python",
   "name": "python",
   "nbconvert_exporter": "python",
   "pygments_lexer": "ipython3",
   "version": "3.11.13"
  }
 },
 "nbformat": 4,
 "nbformat_minor": 5
}
